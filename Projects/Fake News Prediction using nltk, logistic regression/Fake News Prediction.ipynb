{
 "cells": [
  {
   "cell_type": "raw",
   "id": "c651a6d0-e733-432d-942e-b2c1467072a2",
   "metadata": {},
   "source": [
    "Import Packages"
   ]
  },
  {
   "cell_type": "code",
   "execution_count": 11,
   "id": "2a7dd12d-4eb6-420d-808f-cfcf0ee6816f",
   "metadata": {},
   "outputs": [],
   "source": [
    "import numpy as np\n",
    "import pandas as pd\n",
    "# re - regular expression(searching text in documents)\n",
    "import re\n",
    "# this is used to remove unnecessary words(like articles,who,etc)\n",
    "from nltk.corpus import stopwords\n",
    "from nltk.stem.porter import PorterStemmer\n",
    "# convert text into feature vector\n",
    "from sklearn.feature_extraction.text import TfidfVectorizer\n",
    "from sklearn.model_selection import train_test_split\n",
    "from sklearn.linear_model import LogisticRegression\n",
    "from sklearn.metrics import accuracy_score, confusion_matrix\n",
    "import warnings\n",
    "warnings.filterwarnings('ignore')"
   ]
  },
  {
   "cell_type": "raw",
   "id": "69d8d491-a0f6-4388-b194-d68837f7a4c6",
   "metadata": {},
   "source": [
    "Reading csv file"
   ]
  },
  {
   "cell_type": "code",
   "execution_count": 12,
   "id": "2d8bc50c-32fe-48d4-b90d-8d05d32ab18f",
   "metadata": {},
   "outputs": [
    {
     "name": "stdout",
     "output_type": "stream",
     "text": [
      "   id                                              title              author  \\\n",
      "0   0  House Dem Aide: We Didn’t Even See Comey’s Let...       Darrell Lucus   \n",
      "1   1  FLYNN: Hillary Clinton, Big Woman on Campus - ...     Daniel J. Flynn   \n",
      "2   2                  Why the Truth Might Get You Fired  Consortiumnews.com   \n",
      "3   3  15 Civilians Killed In Single US Airstrike Hav...     Jessica Purkiss   \n",
      "4   4  Iranian woman jailed for fictional unpublished...      Howard Portnoy   \n",
      "\n",
      "                                                text  label  \n",
      "0  House Dem Aide: We Didn’t Even See Comey’s Let...      1  \n",
      "1  Ever get the feeling your life circles the rou...      0  \n",
      "2  Why the Truth Might Get You Fired October 29, ...      1  \n",
      "3  Videos 15 Civilians Killed In Single US Airstr...      1  \n",
      "4  Print \\nAn Iranian woman has been sentenced to...      1  \n",
      "(20800, 5)\n",
      "id           0\n",
      "title      558\n",
      "author    1957\n",
      "text        39\n",
      "label        0\n",
      "dtype: int64\n"
     ]
    }
   ],
   "source": [
    "\n",
    "df = pd.read_csv('fakenews_train.csv')\n",
    "df_test = pd.read_csv('fakenews_test.csv')\n",
    "print(df.head())\n",
    "print(df.shape)\n",
    "print(df.isnull().sum())"
   ]
  },
  {
   "cell_type": "raw",
   "id": "8c8c1965-dad6-43e2-b71d-eeeb8d27bf5e",
   "metadata": {},
   "source": [
    "Data Preprocessing"
   ]
  },
  {
   "cell_type": "code",
   "execution_count": 13,
   "id": "1c310d3e-674a-457a-a397-ca1113e45ccf",
   "metadata": {},
   "outputs": [],
   "source": [
    "# filling null values\n",
    "df.fillna(\"\",inplace=True)\n",
    "df_test.fillna(\"\",inplace=True)\n",
    "df[\"content\"] = df[\"author\"] + \" \" + df[\"title\"]\n",
    "df_test[\"content\"] = df_test[\"author\"] + \" \" + df_test[\"title\"]\n",
    "# print(df[\"content\"].head())\n",
    "m = df.drop(\"label\", axis=1)\n",
    "m_test = df_test\n",
    "n = df[\"label\"]"
   ]
  },
  {
   "cell_type": "code",
   "execution_count": 14,
   "id": "b40dcdb2-8a7a-41ea-83b9-31fdbf61d5b5",
   "metadata": {},
   "outputs": [],
   "source": [
    "# Stemming - reducing a word to its root word\n",
    "# (removing prefix n suffix)\n",
    "port_stem = PorterStemmer()\n",
    "words = stopwords.words('english')\n",
    "\n",
    "def stemming(content):\n",
    "    # get all the characters in the text\n",
    "    # (by replacing numbers, punctuations, etc with ' ')\n",
    "    stemmed_content = re.sub('[^a-zA-Z]',' ', content)\n",
    "    stemmed_content = stemmed_content.lower()\n",
    "    stemmed_content = stemmed_content.split()\n",
    "    stemmed_content = [port_stem.stem(word) for word in stemmed_content if word not in words]\n",
    "    stemmed_content = ' '.join(stemmed_content)\n",
    "    return stemmed_content\n",
    "\n",
    "m[\"content\"] = m[\"content\"].apply(stemming)\n",
    "m_test[\"content\"] = m_test[\"content\"].apply(stemming)\n",
    "\n",
    "m = m[\"content\"].values\n",
    "m_test = m_test[\"content\"].values\n",
    "y = df[\"label\"].values\n",
    "\n",
    "# Vectorizing - converting textual data to numerical data\n",
    "# Tf - term freq.(no. of times a word is repeated in doc) , idf - inverse document freq.\n",
    "vectorizer = TfidfVectorizer()\n",
    "vectorizer.fit(m)\n",
    "m = vectorizer.transform(m)\n",
    "m_test = vectorizer.transform(m_test)"
   ]
  },
  {
   "cell_type": "raw",
   "id": "de0add32-5a8d-42ef-9c25-c8f82bc6d4c6",
   "metadata": {},
   "source": [
    "Splitting data into training and testing data"
   ]
  },
  {
   "cell_type": "code",
   "execution_count": 15,
   "id": "1c358639-22fe-4c12-a0ef-b4fc399fd8ec",
   "metadata": {},
   "outputs": [],
   "source": [
    "m_train,m_test,n_train,n_test = train_test_split(m,n,train_size=0.8,stratify=n,random_state=0)"
   ]
  },
  {
   "cell_type": "raw",
   "id": "f785dbe1-1d95-4511-8fde-df224aa1b993",
   "metadata": {},
   "source": [
    "Fitting data into Logistic Regression Model"
   ]
  },
  {
   "cell_type": "code",
   "execution_count": 16,
   "id": "0793c157-5428-4758-9433-d22e567eb27d",
   "metadata": {},
   "outputs": [],
   "source": [
    "log_reg = LogisticRegression()\n",
    "log_reg.fit(m_train,n_train)\n",
    "\n",
    "n_train_pred = log_reg.predict(m_train)\n",
    "n_test_pred = log_reg.predict(m_test)"
   ]
  },
  {
   "cell_type": "raw",
   "id": "2f1d8942-2c5b-4e41-b512-ba6d0687292f",
   "metadata": {},
   "source": [
    "Calculate accuracy for both training and test data"
   ]
  },
  {
   "cell_type": "code",
   "execution_count": 17,
   "id": "5825bca4-5952-4913-aae1-e8360195a57d",
   "metadata": {},
   "outputs": [
    {
     "name": "stdout",
     "output_type": "stream",
     "text": [
      "Training Accuracy: 0.9866586538461538\n",
      "Testing Accuracy: 0.9774038461538461\n"
     ]
    }
   ],
   "source": [
    "acc_train = accuracy_score(n_train,n_train_pred)\n",
    "print(\"Training Accuracy:\",acc_train)\n",
    "acc_test = accuracy_score(n_test,n_test_pred)\n",
    "print(\"Testing Accuracy:\",acc_test)"
   ]
  },
  {
   "cell_type": "raw",
   "id": "42252849-c5bc-4f5a-8517-6376f9fa8dc8",
   "metadata": {},
   "source": [
    "Predict user defined inputs"
   ]
  },
  {
   "cell_type": "code",
   "execution_count": 18,
   "id": "850324d7-af6b-4f95-8595-5bfce4513078",
   "metadata": {},
   "outputs": [
    {
     "name": "stdout",
     "output_type": "stream",
     "text": [
      "FAKE NEWS!!\n"
     ]
    }
   ],
   "source": [
    "ip = m_test[0]\n",
    "pred = log_reg.predict(ip)\n",
    "if pred == 0:\n",
    "    print(\"Breaking News!!\")\n",
    "else:\n",
    "    print(\"FAKE NEWS!!\")"
   ]
  }
 ],
 "metadata": {
  "kernelspec": {
   "display_name": "Python 3 (ipykernel)",
   "language": "python",
   "name": "python3"
  },
  "language_info": {
   "codemirror_mode": {
    "name": "ipython",
    "version": 3
   },
   "file_extension": ".py",
   "mimetype": "text/x-python",
   "name": "python",
   "nbconvert_exporter": "python",
   "pygments_lexer": "ipython3",
   "version": "3.10.2"
  }
 },
 "nbformat": 4,
 "nbformat_minor": 5
}
