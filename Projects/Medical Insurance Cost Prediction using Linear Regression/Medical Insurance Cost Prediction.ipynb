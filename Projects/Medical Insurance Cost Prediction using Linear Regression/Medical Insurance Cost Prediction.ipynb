{
 "cells": [
  {
   "cell_type": "raw",
   "id": "dd537c5a-675f-4c2c-9f93-1962b7a4912e",
   "metadata": {},
   "source": [
    "Import Packages"
   ]
  },
  {
   "cell_type": "code",
   "execution_count": 1,
   "id": "4763ca81-3f51-4b18-aa06-34b40b52d776",
   "metadata": {},
   "outputs": [],
   "source": [
    "import numpy as np\n",
    "import pandas as pd\n",
    "import warnings\n",
    "from sklearn.metrics import r2_score\n",
    "from sklearn.linear_model import LinearRegression\n",
    "from sklearn.preprocessing import LabelEncoder,StandardScaler\n",
    "from sklearn.model_selection import train_test_split as tt\n",
    "import matplotlib.pyplot as plt\n",
    "import seaborn as sns\n",
    "\n",
    "warnings.filterwarnings(\"ignore\")"
   ]
  },
  {
   "cell_type": "raw",
   "id": "b20cbfb8-894a-4d10-a4b4-7c4d72c2bb51",
   "metadata": {},
   "source": [
    "Reading csv file"
   ]
  },
  {
   "cell_type": "code",
   "execution_count": 2,
   "id": "cc207993-5e3d-44f7-8688-06dd606232f4",
   "metadata": {},
   "outputs": [
    {
     "data": {
      "text/html": [
       "<div>\n",
       "<style scoped>\n",
       "    .dataframe tbody tr th:only-of-type {\n",
       "        vertical-align: middle;\n",
       "    }\n",
       "\n",
       "    .dataframe tbody tr th {\n",
       "        vertical-align: top;\n",
       "    }\n",
       "\n",
       "    .dataframe thead th {\n",
       "        text-align: right;\n",
       "    }\n",
       "</style>\n",
       "<table border=\"1\" class=\"dataframe\">\n",
       "  <thead>\n",
       "    <tr style=\"text-align: right;\">\n",
       "      <th></th>\n",
       "      <th>age</th>\n",
       "      <th>sex</th>\n",
       "      <th>bmi</th>\n",
       "      <th>children</th>\n",
       "      <th>smoker</th>\n",
       "      <th>region</th>\n",
       "      <th>charges</th>\n",
       "    </tr>\n",
       "  </thead>\n",
       "  <tbody>\n",
       "    <tr>\n",
       "      <th>0</th>\n",
       "      <td>19</td>\n",
       "      <td>female</td>\n",
       "      <td>27.900</td>\n",
       "      <td>0</td>\n",
       "      <td>yes</td>\n",
       "      <td>southwest</td>\n",
       "      <td>16884.92400</td>\n",
       "    </tr>\n",
       "    <tr>\n",
       "      <th>1</th>\n",
       "      <td>18</td>\n",
       "      <td>male</td>\n",
       "      <td>33.770</td>\n",
       "      <td>1</td>\n",
       "      <td>no</td>\n",
       "      <td>southeast</td>\n",
       "      <td>1725.55230</td>\n",
       "    </tr>\n",
       "    <tr>\n",
       "      <th>2</th>\n",
       "      <td>28</td>\n",
       "      <td>male</td>\n",
       "      <td>33.000</td>\n",
       "      <td>3</td>\n",
       "      <td>no</td>\n",
       "      <td>southeast</td>\n",
       "      <td>4449.46200</td>\n",
       "    </tr>\n",
       "    <tr>\n",
       "      <th>3</th>\n",
       "      <td>33</td>\n",
       "      <td>male</td>\n",
       "      <td>22.705</td>\n",
       "      <td>0</td>\n",
       "      <td>no</td>\n",
       "      <td>northwest</td>\n",
       "      <td>21984.47061</td>\n",
       "    </tr>\n",
       "    <tr>\n",
       "      <th>4</th>\n",
       "      <td>32</td>\n",
       "      <td>male</td>\n",
       "      <td>28.880</td>\n",
       "      <td>0</td>\n",
       "      <td>no</td>\n",
       "      <td>northwest</td>\n",
       "      <td>3866.85520</td>\n",
       "    </tr>\n",
       "    <tr>\n",
       "      <th>...</th>\n",
       "      <td>...</td>\n",
       "      <td>...</td>\n",
       "      <td>...</td>\n",
       "      <td>...</td>\n",
       "      <td>...</td>\n",
       "      <td>...</td>\n",
       "      <td>...</td>\n",
       "    </tr>\n",
       "    <tr>\n",
       "      <th>1333</th>\n",
       "      <td>50</td>\n",
       "      <td>male</td>\n",
       "      <td>30.970</td>\n",
       "      <td>3</td>\n",
       "      <td>no</td>\n",
       "      <td>northwest</td>\n",
       "      <td>10600.54830</td>\n",
       "    </tr>\n",
       "    <tr>\n",
       "      <th>1334</th>\n",
       "      <td>18</td>\n",
       "      <td>female</td>\n",
       "      <td>31.920</td>\n",
       "      <td>0</td>\n",
       "      <td>no</td>\n",
       "      <td>northeast</td>\n",
       "      <td>2205.98080</td>\n",
       "    </tr>\n",
       "    <tr>\n",
       "      <th>1335</th>\n",
       "      <td>18</td>\n",
       "      <td>female</td>\n",
       "      <td>36.850</td>\n",
       "      <td>0</td>\n",
       "      <td>no</td>\n",
       "      <td>southeast</td>\n",
       "      <td>1629.83350</td>\n",
       "    </tr>\n",
       "    <tr>\n",
       "      <th>1336</th>\n",
       "      <td>21</td>\n",
       "      <td>female</td>\n",
       "      <td>25.800</td>\n",
       "      <td>0</td>\n",
       "      <td>no</td>\n",
       "      <td>southwest</td>\n",
       "      <td>2007.94500</td>\n",
       "    </tr>\n",
       "    <tr>\n",
       "      <th>1337</th>\n",
       "      <td>61</td>\n",
       "      <td>female</td>\n",
       "      <td>29.070</td>\n",
       "      <td>0</td>\n",
       "      <td>yes</td>\n",
       "      <td>northwest</td>\n",
       "      <td>29141.36030</td>\n",
       "    </tr>\n",
       "  </tbody>\n",
       "</table>\n",
       "<p>1338 rows × 7 columns</p>\n",
       "</div>"
      ],
      "text/plain": [
       "      age     sex     bmi  children smoker     region      charges\n",
       "0      19  female  27.900         0    yes  southwest  16884.92400\n",
       "1      18    male  33.770         1     no  southeast   1725.55230\n",
       "2      28    male  33.000         3     no  southeast   4449.46200\n",
       "3      33    male  22.705         0     no  northwest  21984.47061\n",
       "4      32    male  28.880         0     no  northwest   3866.85520\n",
       "...   ...     ...     ...       ...    ...        ...          ...\n",
       "1333   50    male  30.970         3     no  northwest  10600.54830\n",
       "1334   18  female  31.920         0     no  northeast   2205.98080\n",
       "1335   18  female  36.850         0     no  southeast   1629.83350\n",
       "1336   21  female  25.800         0     no  southwest   2007.94500\n",
       "1337   61  female  29.070         0    yes  northwest  29141.36030\n",
       "\n",
       "[1338 rows x 7 columns]"
      ]
     },
     "execution_count": 2,
     "metadata": {},
     "output_type": "execute_result"
    }
   ],
   "source": [
    "df = pd.read_csv('insurance.csv')\n",
    "df"
   ]
  },
  {
   "cell_type": "code",
   "execution_count": null,
   "id": "0b4ffa98-5322-4971-b3e7-716dfdc55f00",
   "metadata": {},
   "outputs": [],
   "source": [
    "Data Preprocessing"
   ]
  },
  {
   "cell_type": "code",
   "execution_count": 5,
   "id": "f062a587-9b0d-4dd5-892b-89a711d05604",
   "metadata": {},
   "outputs": [],
   "source": [
    "# c = list(df.columns)\n",
    "# y = []\n",
    "# g = []\n",
    "# for i in range(len(c)):\n",
    "#     if df[c[i]].dtype == \"object\":\n",
    "#         g.append(c[i])\n",
    "#         l = df[c[i]].unique()\n",
    "#         y.append(l)\n",
    "#\n",
    "# # Label Mapping - To convert categorical inputs to numerical values\n",
    "# for i in range(len(y)):\n",
    "#     for j in range(len(y[i])):\n",
    "#         df.replace({g[i]:{y[i][j]:j}},inplace=True)\n",
    "\n",
    "# Replacing values\n",
    "df.replace({\"sex\":{\"male\":1,\"female\":0},\n",
    "            \"smoker\":{\"yes\":1,\"no\":0},\n",
    "            \"region\":{\"southwest\":3,\"southeast\":2,\"northwest\":1,\"northeast\":0}},inplace=True)\n"
   ]
  },
  {
   "cell_type": "raw",
   "id": "75f0e3eb-1b89-421b-b67b-a6359d4671eb",
   "metadata": {},
   "source": [
    "Plotting"
   ]
  },
  {
   "cell_type": "code",
   "execution_count": 4,
   "id": "b419c47d-25d3-41ae-bb41-54d480d0dc97",
   "metadata": {},
   "outputs": [
    {
     "data": {
      "image/png": "[encoded data removed]",
      "text/plain": [
       "<Figure size 432x288 with 1 Axes>"
      ]
     },
     "metadata": {},
     "output_type": "display_data"
    },
    {
     "data": {
      "image/png": "[encoded data removed]",
      "text/plain": [
       "<Figure size 432x288 with 1 Axes>"
      ]
     },
     "metadata": {},
     "output_type": "display_data"
    },
    {
     "data": {
      "image/png": "[encoded data removed]",
      "text/plain": [
       "<Figure size 432x288 with 1 Axes>"
      ]
     },
     "metadata": {},
     "output_type": "display_data"
    }
   ],
   "source": [
    "# Distribution of age\n",
    "sns.set()\n",
    "sns.distplot(df[\"age\"])\n",
    "plt.title(\"Age Distribution\")\n",
    "plt.show()\n",
    "\n",
    "# Distribution of sex\n",
    "sns.set()\n",
    "sns.countplot(df[\"sex\"])\n",
    "plt.title(\"Sex Distribution\")\n",
    "plt.show()\n",
    "\n",
    "# Distribution of bmi\n",
    "sns.set()\n",
    "sns.distplot(df[\"bmi\"])\n",
    "plt.title(\"BMI Distribution\")\n",
    "plt.show()"
   ]
  },
  {
   "cell_type": "raw",
   "id": "c76babea-ddf7-470a-8d67-5648345f1b25",
   "metadata": {},
   "source": [
    "Splitting data into features and labels, and train test split"
   ]
  },
  {
   "cell_type": "code",
   "execution_count": 6,
   "id": "f7dff576-c53b-4da7-83b6-2aec7ed6d296",
   "metadata": {},
   "outputs": [],
   "source": [
    "m = df.drop([\"charges\"],axis=1)\n",
    "n = df[\"charges\"]\n",
    "\n",
    "m_train,m_test,n_train,n_test = tt(m,n,train_size=0.78,random_state=0)"
   ]
  },
  {
   "cell_type": "raw",
   "id": "965c9411-f301-4a11-9e82-821994b572aa",
   "metadata": {},
   "source": [
    "Fitting data into Linear Regression Model"
   ]
  },
  {
   "cell_type": "code",
   "execution_count": 7,
   "id": "3ecd12ca-79aa-47c2-9289-6914e4577e1b",
   "metadata": {},
   "outputs": [],
   "source": [
    "lin_reg = LinearRegression()\n",
    "lin_reg.fit(m_train,n_train)\n",
    "\n",
    "n_train_pred = lin_reg.predict(m_train)\n",
    "n_test_pred = lin_reg.predict(m_test)"
   ]
  },
  {
   "cell_type": "raw",
   "id": "cfa1ea0b-efa1-4e65-bf76-bf3fdf1b86cf",
   "metadata": {},
   "source": [
    "Calculate the r squared error for training and testing data"
   ]
  },
  {
   "cell_type": "code",
   "execution_count": 8,
   "id": "99d5c94b-99b7-4d65-b81c-d45eb8a23296",
   "metadata": {},
   "outputs": [
    {
     "name": "stdout",
     "output_type": "stream",
     "text": [
      "Training Data Accuracy: 0.7331052774798162\n",
      "Testing Data Accuracy: 0.8047865786378768\n"
     ]
    }
   ],
   "source": [
    "error_train = r2_score(n_train,n_train_pred)\n",
    "error_test = r2_score(n_test,n_test_pred)\n",
    "print(\"Training Data Accuracy:\",error_train)\n",
    "print(\"Testing Data Accuracy:\",error_test)"
   ]
  },
  {
   "cell_type": "raw",
   "id": "bfe56fc8-a560-4295-afa2-ae3d72375c78",
   "metadata": {},
   "source": [
    "Predictions with user defined inputs"
   ]
  },
  {
   "cell_type": "code",
   "execution_count": 9,
   "id": "7c08ddfc-26ad-4d04-b25d-fc96c9a3a197",
   "metadata": {},
   "outputs": [
    {
     "name": "stdout",
     "output_type": "stream",
     "text": [
      "Predicted Charges: [5673.42277]\n"
     ]
    }
   ],
   "source": [
    "ip = np.array((32,1,28.88,0,0,1))\n",
    "ip = ip.reshape(1,-1)\n",
    "pred = lin_reg.predict(ip)\n",
    "print(\"Predicted Charges:\",pred)"
   ]
  }
 ],
 "metadata": {
  "kernelspec": {
   "display_name": "Python 3 (ipykernel)",
   "language": "python",
   "name": "python3"
  },
  "language_info": {
   "codemirror_mode": {
    "name": "ipython",
    "version": 3
   },
   "file_extension": ".py",
   "mimetype": "text/x-python",
   "name": "python",
   "nbconvert_exporter": "python",
   "pygments_lexer": "ipython3",
   "version": "3.10.2"
  }
 },
 "nbformat": 4,
 "nbformat_minor": 5
}
