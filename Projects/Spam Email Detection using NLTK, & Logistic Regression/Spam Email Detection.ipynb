{
 "cells": [
  {
   "cell_type": "raw",
   "id": "69dedf5f-d78a-44a9-9891-65434c1da9d9",
   "metadata": {},
   "source": [
    "Import Packages"
   ]
  },
  {
   "cell_type": "code",
   "execution_count": 1,
   "id": "2f0b2d05-d80a-4169-9157-896cba8475d5",
   "metadata": {},
   "outputs": [],
   "source": [
    "import pandas as pd\n",
    "import numpy as np\n",
    "import re\n",
    "from sklearn.linear_model import LogisticRegression\n",
    "from sklearn.metrics import confusion_matrix,accuracy_score\n",
    "from nltk.stem.porter import PorterStemmer\n",
    "from nltk.corpus import stopwords\n",
    "from sklearn.model_selection import train_test_split as tt\n",
    "from sklearn.feature_extraction.text import TfidfVectorizer\n",
    "import warnings\n",
    "\n",
    "warnings.filterwarnings(\"ignore\")"
   ]
  },
  {
   "cell_type": "raw",
   "id": "dc694c98-e352-4652-9683-98533905627b",
   "metadata": {},
   "source": [
    "Reading csv file"
   ]
  },
  {
   "cell_type": "code",
   "execution_count": 14,
   "id": "991d3aa5-d909-4036-bef9-e2da4a57017e",
   "metadata": {},
   "outputs": [
    {
     "data": {
      "text/html": [
       "<div>\n",
       "<style scoped>\n",
       "    .dataframe tbody tr th:only-of-type {\n",
       "        vertical-align: middle;\n",
       "    }\n",
       "\n",
       "    .dataframe tbody tr th {\n",
       "        vertical-align: top;\n",
       "    }\n",
       "\n",
       "    .dataframe thead th {\n",
       "        text-align: right;\n",
       "    }\n",
       "</style>\n",
       "<table border=\"1\" class=\"dataframe\">\n",
       "  <thead>\n",
       "    <tr style=\"text-align: right;\">\n",
       "      <th></th>\n",
       "      <th>Category</th>\n",
       "      <th>Message</th>\n",
       "    </tr>\n",
       "  </thead>\n",
       "  <tbody>\n",
       "    <tr>\n",
       "      <th>0</th>\n",
       "      <td>ham</td>\n",
       "      <td>Go until jurong point, crazy.. Available only ...</td>\n",
       "    </tr>\n",
       "    <tr>\n",
       "      <th>1</th>\n",
       "      <td>ham</td>\n",
       "      <td>Ok lar... Joking wif u oni...</td>\n",
       "    </tr>\n",
       "    <tr>\n",
       "      <th>2</th>\n",
       "      <td>spam</td>\n",
       "      <td>Free entry in 2 a wkly comp to win FA Cup fina...</td>\n",
       "    </tr>\n",
       "    <tr>\n",
       "      <th>3</th>\n",
       "      <td>ham</td>\n",
       "      <td>U dun say so early hor... U c already then say...</td>\n",
       "    </tr>\n",
       "    <tr>\n",
       "      <th>4</th>\n",
       "      <td>ham</td>\n",
       "      <td>Nah I don't think he goes to usf, he lives aro...</td>\n",
       "    </tr>\n",
       "  </tbody>\n",
       "</table>\n",
       "</div>"
      ],
      "text/plain": [
       "  Category                                            Message\n",
       "0      ham  Go until jurong point, crazy.. Available only ...\n",
       "1      ham                      Ok lar... Joking wif u oni...\n",
       "2     spam  Free entry in 2 a wkly comp to win FA Cup fina...\n",
       "3      ham  U dun say so early hor... U c already then say...\n",
       "4      ham  Nah I don't think he goes to usf, he lives aro..."
      ]
     },
     "execution_count": 14,
     "metadata": {},
     "output_type": "execute_result"
    }
   ],
   "source": [
    "df = pd.read_csv(\"mail_data.csv\")\n",
    "\n",
    "df = df.where((pd.notnull(df)),'')\n",
    "# print(mail_data.head())\n",
    "# print(df.info())\n",
    "df.head()"
   ]
  },
  {
   "cell_type": "raw",
   "id": "af755f33-cfd9-4235-bae0-c7dc9ea73184",
   "metadata": {},
   "source": [
    "# Feature Extraction"
   ]
  },
  {
   "cell_type": "code",
   "execution_count": 21,
   "id": "fdc08bff-8099-47a2-a043-4372fee5e001",
   "metadata": {},
   "outputs": [
    {
     "name": "stdout",
     "output_type": "stream",
     "text": [
      "(5572, 6141)\n"
     ]
    }
   ],
   "source": [
    "words = stopwords.words('english')\n",
    "\n",
    "# Stemming\n",
    "port_stem = PorterStemmer()\n",
    "\n",
    "def stemming(content):\n",
    "    # Removing anything thats not an alphabet(by converting them into blank spaces)\n",
    "    stemmed_content = re.sub('[^a-zA-Z]',' ',content)\n",
    "    stemmed_content = stemmed_content.lower()\n",
    "    stemmed_content = stemmed_content.split()\n",
    "    # Removing stop words\n",
    "    stemmed_content = [port_stem.stem(word) for word in stemmed_content if word not in words]\n",
    "    stemmed_content = ' '.join(stemmed_content)\n",
    "    return stemmed_content\n",
    "\n",
    "\n",
    "df[\"Message\"] = df[\"Message\"].apply(stemming)\n",
    "\n",
    "\n",
    "# Category Mapping\n",
    "df.replace({\"Category\":{\"spam\":1,\"ham\":0}},inplace=True)\n",
    "\n",
    "\n",
    "# # Handling Biased Data\n",
    "# spam = df[df[\"Category\"]==1]\n",
    "# ham = df[df[\"Category\"]==0]\n",
    "# ham = ham.sample(n=spam.shape[0])\n",
    "# df = pd.concat([spam,ham],axis=0)\n",
    "\n",
    "# Vectorizing\n",
    "m = df[\"Message\"]\n",
    "n = df[\"Category\"]\n",
    "vectorizer = TfidfVectorizer(min_df=1,lowercase=True,stop_words='english')\n",
    "m = vectorizer.fit_transform(m)\n",
    "n = n.astype('int64')\n",
    "print(m.shape)"
   ]
  },
  {
   "cell_type": "raw",
   "id": "05f57959-6afe-4c87-8e4d-291fa1536de3",
   "metadata": {},
   "source": [
    "Splitting data train test sets"
   ]
  },
  {
   "cell_type": "code",
   "execution_count": 22,
   "id": "74c7f0c5-2d06-4d63-ae90-d48dac68cf91",
   "metadata": {},
   "outputs": [],
   "source": [
    "m_train,m_test,n_train,n_test = tt(m,n,train_size=0.8,random_state=0)"
   ]
  },
  {
   "cell_type": "raw",
   "id": "79c8e626-e54f-4b17-9e52-0e1b8394b04e",
   "metadata": {},
   "source": [
    "Fitting data into Logistic Regression Model"
   ]
  },
  {
   "cell_type": "code",
   "execution_count": 23,
   "id": "be55a9c3-14c5-4002-b8b6-e9923a91c671",
   "metadata": {},
   "outputs": [],
   "source": [
    "clf = LogisticRegression(random_state=0)\n",
    "clf.fit(m_train,n_train)\n",
    "\n",
    "n_train_pred = clf.predict(m_train)\n",
    "n_test_pred = clf.predict(m_test)"
   ]
  },
  {
   "cell_type": "raw",
   "id": "35c5bd24-eb2f-4a51-85f3-99d129a1a024",
   "metadata": {},
   "source": [
    "Calculate the training and testing accuracy"
   ]
  },
  {
   "cell_type": "code",
   "execution_count": 24,
   "id": "41efee04-ae29-410a-9451-b9234d45bac1",
   "metadata": {},
   "outputs": [
    {
     "name": "stdout",
     "output_type": "stream",
     "text": [
      "Training Accuracy: 0.9715054969710568\n",
      "Testing Accuracy: 0.95695067264574\n"
     ]
    }
   ],
   "source": [
    "train_acc = accuracy_score(n_train,n_train_pred)\n",
    "test_acc = accuracy_score(n_test,n_test_pred)\n",
    "print(\"Training Accuracy:\",train_acc)\n",
    "print(\"Testing Accuracy:\",test_acc)"
   ]
  },
  {
   "cell_type": "raw",
   "id": "d3ef7f75-6aec-41a4-ad03-55ab71b3feef",
   "metadata": {},
   "source": [
    "-> Observation:\n",
    "# Without Handling Biased Data and Stemming\n",
    "# Stratifying\n",
    "# Training Accuracy: 0.9735247924612969\n",
    "# Testing Accuracy: 0.9479820627802691\n",
    "\n",
    "# Not stratify\n",
    "# Training Accuracy: 0.9715054969710568\n",
    "# Testing Accuracy: 0.9623318385650225\n",
    "\n",
    "# After Handling Biased Data and Stemming\n",
    "# Stratifying\n",
    "# Training Accuracy: 0.9757322175732217\n",
    "# Testing Accuracy: 0.9331103678929766\n",
    "\n",
    "# Not stratify\n",
    "# Training Accuracy: 0.9757322175732217\n",
    "# Testing Accuracy: 0.9331103678929766"
   ]
  }
 ],
 "metadata": {
  "kernelspec": {
   "display_name": "Python 3 (ipykernel)",
   "language": "python",
   "name": "python3"
  },
  "language_info": {
   "codemirror_mode": {
    "name": "ipython",
    "version": 3
   },
   "file_extension": ".py",
   "mimetype": "text/x-python",
   "name": "python",
   "nbconvert_exporter": "python",
   "pygments_lexer": "ipython3",
   "version": "3.10.2"
  }
 },
 "nbformat": 4,
 "nbformat_minor": 5
}
