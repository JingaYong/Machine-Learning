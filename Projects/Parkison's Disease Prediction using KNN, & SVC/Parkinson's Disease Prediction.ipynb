{
 "cells": [
  {
   "cell_type": "raw",
   "id": "b40c3103-199f-445f-a640-62498d74c62d",
   "metadata": {},
   "source": [
    "Import Packages"
   ]
  },
  {
   "cell_type": "code",
   "execution_count": 20,
   "id": "cbe512a9-81cb-428f-b3d6-4173f3dce0b3",
   "metadata": {},
   "outputs": [],
   "source": [
    "import pandas as pd\n",
    "import numpy as np\n",
    "from sklearn.metrics import accuracy_score,confusion_matrix,r2_score\n",
    "from sklearn.model_selection import train_test_split as tt\n",
    "from sklearn.preprocessing import LabelEncoder,StandardScaler\n",
    "from sklearn.neighbors import KNeighborsClassifier\n",
    "from sklearn.svm import SVC\n",
    "import warnings\n",
    "\n",
    "warnings.filterwarnings(\"ignore\")"
   ]
  },
  {
   "cell_type": "raw",
   "id": "add5d122-a90f-42cb-82db-0f322d93dcc2",
   "metadata": {},
   "source": [
    "Reading csv file"
   ]
  },
  {
   "cell_type": "code",
   "execution_count": 21,
   "id": "c7724d6d-8f58-4d08-a92d-bf5abf5354b6",
   "metadata": {},
   "outputs": [
    {
     "name": "stdout",
     "output_type": "stream",
     "text": [
      "<class 'pandas.core.frame.DataFrame'>\n",
      "RangeIndex: 195 entries, 0 to 194\n",
      "Data columns (total 24 columns):\n",
      " #   Column            Non-Null Count  Dtype  \n",
      "---  ------            --------------  -----  \n",
      " 0   name              195 non-null    object \n",
      " 1   MDVP:Fo(Hz)       195 non-null    float64\n",
      " 2   MDVP:Fhi(Hz)      195 non-null    float64\n",
      " 3   MDVP:Flo(Hz)      195 non-null    float64\n",
      " 4   MDVP:Jitter(%)    195 non-null    float64\n",
      " 5   MDVP:Jitter(Abs)  195 non-null    float64\n",
      " 6   MDVP:RAP          195 non-null    float64\n",
      " 7   MDVP:PPQ          195 non-null    float64\n",
      " 8   Jitter:DDP        195 non-null    float64\n",
      " 9   MDVP:Shimmer      195 non-null    float64\n",
      " 10  MDVP:Shimmer(dB)  195 non-null    float64\n",
      " 11  Shimmer:APQ3      195 non-null    float64\n",
      " 12  Shimmer:APQ5      195 non-null    float64\n",
      " 13  MDVP:APQ          195 non-null    float64\n",
      " 14  Shimmer:DDA       195 non-null    float64\n",
      " 15  NHR               195 non-null    float64\n",
      " 16  HNR               195 non-null    float64\n",
      " 17  status            195 non-null    int64  \n",
      " 18  RPDE              195 non-null    float64\n",
      " 19  DFA               195 non-null    float64\n",
      " 20  spread1           195 non-null    float64\n",
      " 21  spread2           195 non-null    float64\n",
      " 22  D2                195 non-null    float64\n",
      " 23  PPE               195 non-null    float64\n",
      "dtypes: float64(22), int64(1), object(1)\n",
      "memory usage: 36.7+ KB\n",
      "None\n"
     ]
    }
   ],
   "source": [
    "df = pd.read_csv(\"parkisons_disease.csv\")\n",
    "# print(df.shape)\n",
    "# print(df.describe())\n",
    "print(df.info())\n",
    "# print(df.isnull().sum())"
   ]
  },
  {
   "cell_type": "raw",
   "id": "b80545c9-9b25-4d67-a057-13382a0f6959",
   "metadata": {},
   "source": [
    "Splitting data into features, and labels,and further split into training and testing data"
   ]
  },
  {
   "cell_type": "code",
   "execution_count": 22,
   "id": "ef010906-27c8-4033-8833-d096e6dc3966",
   "metadata": {},
   "outputs": [],
   "source": [
    "m = df.drop([\"name\",\"status\"],axis=1).values\n",
    "n = df[\"status\"]\n",
    "\n",
    "sc = StandardScaler()\n",
    "m = sc.fit_transform(m)\n",
    "m_train,m_test,n_train,n_test = tt(m,n,train_size=0.78,stratify=n,random_state=0)"
   ]
  },
  {
   "cell_type": "raw",
   "id": "a1e6dbb1-a0ab-4baf-a67c-5bfe59e094b3",
   "metadata": {},
   "source": [
    "Fitting data into SVC Model"
   ]
  },
  {
   "cell_type": "code",
   "execution_count": 23,
   "id": "4251a9ee-4cca-44c6-a236-cac4c5a205fa",
   "metadata": {},
   "outputs": [],
   "source": [
    "clf = SVC(kernel=\"linear\",random_state=0)\n",
    "clf.fit(m_train,n_train)\n",
    "\n",
    "n_train_pred = clf.predict(m_train)\n",
    "n_test_pred = clf.predict(m_test)"
   ]
  },
  {
   "cell_type": "raw",
   "id": "8caada07-8ee6-4baa-927b-4538ca49103e",
   "metadata": {},
   "source": [
    "Calculate accuracy for both training and test data"
   ]
  },
  {
   "cell_type": "code",
   "execution_count": 24,
   "id": "60ea7c14-110b-48d4-a029-badea9a957f5",
   "metadata": {},
   "outputs": [
    {
     "name": "stdout",
     "output_type": "stream",
     "text": [
      "Training Accuracy: 0.8947368421052632\n",
      "Testing Accuracy: 0.7674418604651163\n"
     ]
    }
   ],
   "source": [
    "train_acc = accuracy_score(n_train,n_train_pred)\n",
    "test_acc = accuracy_score(n_test,n_test_pred)\n",
    "print(\"Training Accuracy:\",train_acc)\n",
    "print(\"Testing Accuracy:\",test_acc)"
   ]
  },
  {
   "cell_type": "raw",
   "id": "506f6ced-e529-4515-b197-715107699b82",
   "metadata": {},
   "source": [
    "Predict user defined inputs"
   ]
  },
  {
   "cell_type": "code",
   "execution_count": 25,
   "id": "055552d1-d03d-4d15-897f-c604df4c032f",
   "metadata": {},
   "outputs": [
    {
     "name": "stdout",
     "output_type": "stream",
     "text": [
      "Not diagnosed with parkisons disease\n"
     ]
    }
   ],
   "source": [
    "ip = np.array((228.96900,239.54100,113.20100,0.00238,0.00001,0.00136,0.00140,0.00408,0.01745,0.15400,0.00942,0.01160,0.01234,0.02827,0.00420,24.54700,0.305429,0.681811,-7.314237,0.006274,2.118596,0.091546))\n",
    "ip = ip.reshape(1,-1)\n",
    "pred = clf.predict(ip)\n",
    "\n",
    "if pred[0]==0:\n",
    "    print('Not diagnosed with parkisons disease')\n",
    "else:\n",
    "    print('Diagnosed with parkisons disease')"
   ]
  }
 ],
 "metadata": {
  "kernelspec": {
   "display_name": "Python 3 (ipykernel)",
   "language": "python",
   "name": "python3"
  },
  "language_info": {
   "codemirror_mode": {
    "name": "ipython",
    "version": 3
   },
   "file_extension": ".py",
   "mimetype": "text/x-python",
   "name": "python",
   "nbconvert_exporter": "python",
   "pygments_lexer": "ipython3",
   "version": "3.10.2"
  }
 },
 "nbformat": 4,
 "nbformat_minor": 5
}
