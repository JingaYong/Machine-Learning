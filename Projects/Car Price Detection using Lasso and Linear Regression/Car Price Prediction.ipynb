{
 "cells": [
  {
   "cell_type": "raw",
   "id": "c81c3aa8-ea15-4b2a-a57f-1a22aab32ae5",
   "metadata": {},
   "source": [
    "Import Packages"
   ]
  },
  {
   "cell_type": "code",
   "execution_count": 1,
   "id": "91230761-d045-484a-9e44-f4dd67fdef77",
   "metadata": {},
   "outputs": [],
   "source": [
    "import numpy as np\n",
    "import pandas as pd\n",
    "import warnings\n",
    "from sklearn.metrics import accuracy_score,confusion_matrix,r2_score\n",
    "from sklearn.linear_model import LinearRegression, Lasso, LogisticRegression\n",
    "from sklearn.preprocessing import LabelEncoder\n",
    "from sklearn.model_selection import train_test_split as tt\n",
    "import matplotlib.pyplot as plt\n",
    "import seaborn as sns\n",
    "\n",
    "warnings.filterwarnings(\"ignore\")"
   ]
  },
  {
   "cell_type": "raw",
   "id": "55d822d1-3b10-463c-b686-676923553805",
   "metadata": {},
   "source": [
    "Reading the csv file"
   ]
  },
  {
   "cell_type": "code",
   "execution_count": 2,
   "id": "e81a9fb7-ade7-4eea-8c92-f14713e8ba48",
   "metadata": {},
   "outputs": [
    {
     "data": {
      "text/plain": [
       "Car_Name         0\n",
       "Year             0\n",
       "Selling_Price    0\n",
       "Present_Price    0\n",
       "Kms_Driven       0\n",
       "Fuel_Type        0\n",
       "Seller_Type      0\n",
       "Transmission     0\n",
       "Owner            0\n",
       "dtype: int64"
      ]
     },
     "execution_count": 2,
     "metadata": {},
     "output_type": "execute_result"
    }
   ],
   "source": [
    "df = pd.read_csv(\"car data.csv\")\n",
    "df\n",
    "df.isnull().sum()"
   ]
  },
  {
   "cell_type": "raw",
   "id": "cd591f97-8fff-4422-99cf-837e9bf355fc",
   "metadata": {},
   "source": [
    "Data Preprocessing, Splitting data into training and testing sets"
   ]
  },
  {
   "cell_type": "code",
   "execution_count": 3,
   "id": "b405bbbf-b633-406d-bb9a-f9e890d99017",
   "metadata": {},
   "outputs": [],
   "source": [
    "# Label Mapping\n",
    "df.replace({\"Fuel_Type\":{\"Petrol\":0,\"Diesel\":1,\"CNG\":2},\n",
    "            \"Seller_Type\":{\"Individual\":1,\"Dealer\":0},\n",
    "            \"Transmission\":{\"Manual\":0,\"Automatic\":1}},inplace=True)\n",
    "\n",
    "x = df.drop([\"Car_Name\",\"Selling_Price\"],axis=1)\n",
    "y = df[\"Selling_Price\"]\n",
    "\n",
    "x_train,x_test,y_train,y_test = tt(x,y,train_size=0.78,random_state=0)"
   ]
  },
  {
   "cell_type": "raw",
   "id": "a49b5476-4e45-4ffc-a505-739b08bde175",
   "metadata": {},
   "source": [
    "Linear Regression Model"
   ]
  },
  {
   "cell_type": "code",
   "execution_count": 9,
   "id": "fbb0c82b-725e-4eee-a4b3-4d17d1a0163c",
   "metadata": {},
   "outputs": [
    {
     "name": "stdout",
     "output_type": "stream",
     "text": [
      "Training Error: 0.8757515845153047\n",
      "Testing Error: 0.8658040926915164\n"
     ]
    }
   ],
   "source": [
    "lin_reg = LinearRegression()\n",
    "lin_reg.fit(x_train,y_train)\n",
    "\n",
    "y_train_pred = lin_reg.predict(x_train)\n",
    "y_test_pred = lin_reg.predict(x_test)\n",
    "\n",
    "train_error = r2_score(y_train,y_train_pred)\n",
    "test_error = r2_score(y_test,y_test_pred)\n",
    "print(\"Training Error:\",train_error)\n",
    "print(\"Testing Error:\",test_error)"
   ]
  },
  {
   "cell_type": "raw",
   "id": "d80e849f-81ce-4654-a7d9-95d6ec96c081",
   "metadata": {},
   "source": [
    "Lasso Regression Model"
   ]
  },
  {
   "cell_type": "code",
   "execution_count": 10,
   "id": "d889113d-8d93-41c7-bdde-9a57ef502538",
   "metadata": {},
   "outputs": [
    {
     "name": "stdout",
     "output_type": "stream",
     "text": [
      "Training Error: 0.8361028650773745\n",
      "Testing Error: 0.8163001238249717\n"
     ]
    }
   ],
   "source": [
    "las_reg = Lasso()\n",
    "las_reg.fit(x_train,y_train)\n",
    "\n",
    "y_train_pred = las_reg.predict(x_train)\n",
    "y_test_pred = las_reg.predict(x_test)\n",
    "\n",
    "train_error = r2_score(y_train,y_train_pred)\n",
    "test_error = r2_score(y_test,y_test_pred)\n",
    "print(\"Training Error:\",train_error)\n",
    "print(\"Testing Error:\",test_error)\n",
    "\n"
   ]
  },
  {
   "cell_type": "raw",
   "id": "a3a400ae-1f48-4cdb-a3f1-3764a2f9eb15",
   "metadata": {},
   "source": [
    "We can conclude that the Lasso Model is comparitively better than the Linear Regression Model"
   ]
  }
 ],
 "metadata": {
  "kernelspec": {
   "display_name": "Python 3 (ipykernel)",
   "language": "python",
   "name": "python3"
  },
  "language_info": {
   "codemirror_mode": {
    "name": "ipython",
    "version": 3
   },
   "file_extension": ".py",
   "mimetype": "text/x-python",
   "name": "python",
   "nbconvert_exporter": "python",
   "pygments_lexer": "ipython3",
   "version": "3.10.2"
  }
 },
 "nbformat": 4,
 "nbformat_minor": 5
}
