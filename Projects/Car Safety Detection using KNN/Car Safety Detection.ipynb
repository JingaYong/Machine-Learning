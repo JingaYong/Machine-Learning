{
 "cells": [
  {
   "cell_type": "raw",
   "id": "c3ca395a-e540-4157-9942-b1124a4e0b76",
   "metadata": {},
   "source": [
    "Import Packages"
   ]
  },
  {
   "cell_type": "code",
   "execution_count": 1,
   "id": "49a3eaa9-d351-42d0-a5e2-55216c0e69cd",
   "metadata": {},
   "outputs": [],
   "source": [
    "import pandas as pd\n",
    "import numpy as np\n",
    "from sklearn.metrics import accuracy_score, confusion_matrix, r2_score\n",
    "from sklearn.model_selection import train_test_split as tt\n",
    "from sklearn.preprocessing import LabelEncoder, StandardScaler\n",
    "from sklearn.neighbors import KNeighborsClassifier\n",
    "import warnings\n",
    "\n",
    "warnings.filterwarnings(\"ignore\")"
   ]
  },
  {
   "cell_type": "raw",
   "id": "5c026d72-3c11-466d-b17e-9778c7e12429",
   "metadata": {},
   "source": [
    "Read the csv file"
   ]
  },
  {
   "cell_type": "code",
   "execution_count": 2,
   "id": "080f8733-9f02-461d-b525-5ac9cb03d00d",
   "metadata": {},
   "outputs": [
    {
     "name": "stdout",
     "output_type": "stream",
     "text": [
      "<class 'pandas.core.frame.DataFrame'>\n",
      "RangeIndex: 1728 entries, 0 to 1727\n",
      "Data columns (total 7 columns):\n",
      " #   Column    Non-Null Count  Dtype \n",
      "---  ------    --------------  ----- \n",
      " 0   buying    1728 non-null   object\n",
      " 1   maint     1728 non-null   object\n",
      " 2   doors     1728 non-null   object\n",
      " 3   persons   1728 non-null   object\n",
      " 4   lug_boot  1728 non-null   object\n",
      " 5   safety    1728 non-null   object\n",
      " 6   class     1728 non-null   object\n",
      "dtypes: object(7)\n",
      "memory usage: 94.6+ KB\n",
      "None\n"
     ]
    }
   ],
   "source": [
    "df = pd.read_csv(\"car_data/car.csv\")\n",
    "# print(df.shape)\n",
    "# print(df.isnull().sum())\n",
    "# print(df.describe())\n",
    "print(df.info())"
   ]
  },
  {
   "cell_type": "raw",
   "id": "6d8f7bcd-f821-474c-b183-15e4e881545f",
   "metadata": {},
   "source": [
    "# Data Processing and Mapping"
   ]
  },
  {
   "cell_type": "code",
   "execution_count": 3,
   "id": "222351c1-d63d-457c-b862-b5c8d42d85ec",
   "metadata": {},
   "outputs": [],
   "source": [
    "df.replace({\"buying\": {\"vhigh\": 3, \"high\": 2, \"med\": 1, \"low\": 0},\n",
    "                 \"maint\": {\"vhigh\": 3, \"high\": 2, \"med\": 1, \"low\": 0},\n",
    "                 \"doors\": {\"5more\": 5},\n",
    "                 \"persons\": {\"more\": 5},\n",
    "                 \"lug_boot\": {\"small\": 0, \"med\": 1, \"big\": 2},\n",
    "                 \"safety\": {\"low\": 0, \"med\": 1, \"high\": 2},\n",
    "                 \"class\": {\"unacc\": 0, \"acc\": 1, \"good\": 2, \"vgood\": 3}},inplace=True)"
   ]
  },
  {
   "cell_type": "raw",
   "id": "6f7cec06-bd4c-4b93-a9f4-ce2208dee6d0",
   "metadata": {},
   "source": [
    "Splitting data into features and labels, and train test split"
   ]
  },
  {
   "cell_type": "code",
   "execution_count": 4,
   "id": "667db1c0-8532-4fec-9a0f-b7a14dd15d65",
   "metadata": {},
   "outputs": [],
   "source": [
    "m = df.drop(\"class\",axis=1)\n",
    "n = df[\"class\"]\n",
    "\n",
    "m_train, m_test, n_train, n_test = tt(m,n,train_size=0.8,stratify=n,random_state=0)"
   ]
  },
  {
   "cell_type": "raw",
   "id": "dc9b8250-1cd0-4dba-b6e3-a5a817bf1862",
   "metadata": {},
   "source": [
    "KNN model, Calculate train and test accuracy"
   ]
  },
  {
   "cell_type": "code",
   "execution_count": 6,
   "id": "df3e672b-355b-4310-8371-73aa245336d1",
   "metadata": {},
   "outputs": [
    {
     "name": "stdout",
     "output_type": "stream",
     "text": [
      "Training Accuracy: 0.9732272069464544\n",
      "Testing Accuracy: 0.9508670520231214\n"
     ]
    }
   ],
   "source": [
    "clf = KNeighborsClassifier(n_neighbors=11)\n",
    "clf.fit(m_train,n_train)\n",
    "\n",
    "n_train_pred = clf.predict(m_train)\n",
    "n_test_pred = clf.predict(m_test)\n",
    "\n",
    "train_acc = accuracy_score(n_train,n_train_pred)\n",
    "test_acc = accuracy_score(n_test,n_test_pred)\n",
    "print(\"Training Accuracy:\",train_acc)\n",
    "print(\"Testing Accuracy:\",test_acc)"
   ]
  },
  {
   "cell_type": "raw",
   "id": "399b9504-bf7b-413a-bebd-576e1031dfeb",
   "metadata": {},
   "source": [
    "# Observation"
   ]
  },
  {
   "cell_type": "raw",
   "id": "3e286c86-8a09-4fab-b2aa-36775180688b",
   "metadata": {},
   "source": [
    "# n_neighbors = 3,5\n",
    "# Training Accuracy: 0.9573082489146165\n",
    "# Testing Accuracy: 0.9161849710982659\n",
    "#\n",
    "# n_neighbors = 7,9\n",
    "# Training Accuracy: 0.9797395079594791\n",
    "# Testing Accuracy: 0.9421965317919075\n",
    "#\n",
    "# n_neighbors = 11\n",
    "# Training Accuracy: 0.9732272069464544\n",
    "# Testing Accuracy: 0.9508670520231214\n",
    "#\n",
    "# n_neighbors = 13\n",
    "# Training Accuracy: 0.9681620839363242\n",
    "# Testing Accuracy: 0.9364161849710982\n",
    "\n",
    "# Hence, I conclude that n_neighbors = 11, is the best hyperparameter"
   ]
  },
  {
   "cell_type": "raw",
   "id": "eeb6f277-1582-47ef-8475-3df2ed755e81",
   "metadata": {},
   "source": [
    "Predictions with user defined inputs"
   ]
  },
  {
   "cell_type": "code",
   "execution_count": 9,
   "id": "28367860-babc-49e7-89a2-a477ca536ce9",
   "metadata": {},
   "outputs": [
    {
     "name": "stdout",
     "output_type": "stream",
     "text": [
      "Car is not safe\n"
     ]
    }
   ],
   "source": [
    "ip = np.array((3,3,5,5,2,0))\n",
    "ip = ip.reshape(1,-1)\n",
    "pred = clf.predict(ip)\n",
    "\n",
    "if pred[0]==0:\n",
    "    print('Car is not safe')\n",
    "else:\n",
    "    print('Car is safe')"
   ]
  }
 ],
 "metadata": {
  "kernelspec": {
   "display_name": "Python 3 (ipykernel)",
   "language": "python",
   "name": "python3"
  },
  "language_info": {
   "codemirror_mode": {
    "name": "ipython",
    "version": 3
   },
   "file_extension": ".py",
   "mimetype": "text/x-python",
   "name": "python",
   "nbconvert_exporter": "python",
   "pygments_lexer": "ipython3",
   "version": "3.10.2"
  }
 },
 "nbformat": 4,
 "nbformat_minor": 5
}
